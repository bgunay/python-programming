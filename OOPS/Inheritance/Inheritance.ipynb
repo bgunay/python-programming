{
 "cells": [
  {
   "cell_type": "markdown",
   "metadata": {},
   "source": [
    "# Inheritance\n",
    "    - a process where one class acquire all the methods and properties of another class\n",
    "   **Parent class** is the class being inherited from, also called base class.\n",
    "\n",
    "   **Child class** is the class that inherits from another class, also called derived class.\n",
    "   \n",
    "**Syntax** : \n",
    "\n",
    "`class ChildClassName(ParentClassName)`\n",
    "    \n",
    "    ...\n",
    "    \n",
    "<img src=\"./images/inheritance.png\">"
   ]
  },
  {
   "cell_type": "code",
   "execution_count": 12,
   "metadata": {},
   "outputs": [],
   "source": [
    "# Base Class\n",
    "class Human():\n",
    "    id_seq = 101\n",
    "    database = []\n",
    "    population = 0\n",
    "\n",
    "    def __init__(self, name, age, is_alive=True):\n",
    "        self.name = name\n",
    "        self.age = age\n",
    "        self.is_alive = is_alive\n",
    "        # adding id of object\n",
    "        self.id = Human.id_seq\n",
    "        Human.id_seq += 1\n",
    "        Human.database.append(self)\n",
    "        Human.population +=1\n",
    "    \n",
    "    def introduce(self):\n",
    "        print(\"Hi, My name is\", self.name, \"My age is \", self.age)\n",
    "        \n",
    "    def die(self):\n",
    "        if self.is_alive:\n",
    "            print(self.name, \"is dying...\")\n",
    "            self.is_alive = False\n",
    "            Human.population -=1\n",
    "        else:\n",
    "            print(\"{} is already dead.\".format(self.name))\n",
    "        \n",
    "    #magic function    \n",
    "    def __repr__(self):\n",
    "        \"\"\"\n",
    "        this function needs to return a string\n",
    "        \"\"\"\n",
    "        return \"[{}, {}, {}, {}]\".format(self.id, self.name, self.age, self.is_alive)"
   ]
  },
  {
   "cell_type": "code",
   "execution_count": 13,
   "metadata": {},
   "outputs": [],
   "source": [
    "# Derived Class\n",
    "class Hitman(Human):\n",
    "    \n",
    "    # re-initialise constructor\n",
    "    def __init__(self, name, age):\n",
    "        super().__init__(name, age)\n",
    "        \n",
    "        # additional hitman properties\n",
    "        self.kills = 0\n",
    "        self.kill_list = []"
   ]
  },
  {
   "cell_type": "code",
   "execution_count": 14,
   "metadata": {},
   "outputs": [],
   "source": [
    "h1 = Human(\"Mohit\", 23)\n",
    "h2 = Human(\"Prateek\", 27)\n",
    "h3 = Human(\"Jatin\", 26)"
   ]
  },
  {
   "cell_type": "code",
   "execution_count": 15,
   "metadata": {},
   "outputs": [
    {
     "data": {
      "text/plain": [
       "3"
      ]
     },
     "execution_count": 15,
     "metadata": {},
     "output_type": "execute_result"
    }
   ],
   "source": [
    "Human.population"
   ]
  },
  {
   "cell_type": "code",
   "execution_count": 16,
   "metadata": {},
   "outputs": [],
   "source": [
    "hit = Hitman(\"James\", 30)"
   ]
  },
  {
   "cell_type": "code",
   "execution_count": 17,
   "metadata": {},
   "outputs": [
    {
     "data": {
      "text/plain": [
       "4"
      ]
     },
     "execution_count": 17,
     "metadata": {},
     "output_type": "execute_result"
    }
   ],
   "source": [
    "Human.population"
   ]
  },
  {
   "cell_type": "code",
   "execution_count": 18,
   "metadata": {},
   "outputs": [
    {
     "name": "stdout",
     "output_type": "stream",
     "text": [
      "Hi, My name is James My age is  30\n"
     ]
    }
   ],
   "source": [
    "hit.introduce()"
   ]
  },
  {
   "cell_type": "code",
   "execution_count": 19,
   "metadata": {},
   "outputs": [
    {
     "data": {
      "text/plain": [
       "[[101, Mohit, 23, True],\n",
       " [102, Prateek, 27, True],\n",
       " [103, Jatin, 26, True],\n",
       " [104, James, 30, True]]"
      ]
     },
     "execution_count": 19,
     "metadata": {},
     "output_type": "execute_result"
    }
   ],
   "source": [
    "Human.database"
   ]
  },
  {
   "cell_type": "code",
   "execution_count": 20,
   "metadata": {},
   "outputs": [
    {
     "name": "stdout",
     "output_type": "stream",
     "text": [
      "[104, James, 30, True]\n"
     ]
    }
   ],
   "source": [
    "print(hit)"
   ]
  },
  {
   "cell_type": "code",
   "execution_count": 21,
   "metadata": {},
   "outputs": [
    {
     "data": {
      "text/plain": [
       "0"
      ]
     },
     "execution_count": 21,
     "metadata": {},
     "output_type": "execute_result"
    }
   ],
   "source": [
    "hit.kills"
   ]
  },
  {
   "cell_type": "code",
   "execution_count": 23,
   "metadata": {},
   "outputs": [
    {
     "data": {
      "text/plain": [
       "[]"
      ]
     },
     "execution_count": 23,
     "metadata": {},
     "output_type": "execute_result"
    }
   ],
   "source": [
    "hit.kill_list"
   ]
  },
  {
   "cell_type": "code",
   "execution_count": null,
   "metadata": {},
   "outputs": [],
   "source": []
  },
  {
   "cell_type": "markdown",
   "metadata": {},
   "source": [
    "## Add kill functionality to Hitman"
   ]
  },
  {
   "cell_type": "code",
   "execution_count": 50,
   "metadata": {},
   "outputs": [],
   "source": [
    "# Base Class\n",
    "class Human():\n",
    "    id_seq = 101\n",
    "    database = []\n",
    "    population = 0\n",
    "\n",
    "    def __init__(self, name, age, is_alive=True):\n",
    "        self.name = name\n",
    "        self.age = age\n",
    "        self.is_alive = is_alive\n",
    "        # adding id of object\n",
    "        self.id = Human.id_seq\n",
    "        Human.id_seq += 1\n",
    "        Human.database.append(self)\n",
    "        Human.population +=1\n",
    "    \n",
    "    def introduce(self):\n",
    "        print(\"Hi, My name is\", self.name, \"My age is \", self.age)\n",
    "        \n",
    "    def die(self):\n",
    "        if self.is_alive:\n",
    "            print(self.name, \"is dying...\")\n",
    "            self.is_alive = False\n",
    "            Human.population -=1\n",
    "        else:\n",
    "            print(\"{} is already dead.\".format(self.name))\n",
    "        \n",
    "    #magic function    \n",
    "    def __repr__(self):\n",
    "        \"\"\"\n",
    "        this function needs to return a string\n",
    "        \"\"\"\n",
    "        return \"[{}, {}, {}, {}]\".format(self.id, self.name, self.age, self.is_alive)"
   ]
  },
  {
   "cell_type": "code",
   "execution_count": 51,
   "metadata": {},
   "outputs": [],
   "source": [
    "# Derived Class\n",
    "class Hitman(Human):\n",
    "    \n",
    "    # re-initialise constructor\n",
    "    def __init__(self, name, age):\n",
    "        super().__init__(name, age)\n",
    "        \n",
    "        # additional hitman properties\n",
    "        self.kills = 0\n",
    "        self.kill_list = []\n",
    "        \n",
    "    # adding kill method\n",
    "    def kill(self, person):\n",
    "        \"\"\"person : object of human\"\"\"\n",
    "        \n",
    "        if(person.is_alive):\n",
    "            print(\"{} is killing {}\".format(self.name, person.name))\n",
    "            person.die()\n",
    "            self.kills += 1\n",
    "            self.kill_list.append(person)\n",
    "        else:\n",
    "            print(\"{} is already dead.\".format(person.name))"
   ]
  },
  {
   "cell_type": "code",
   "execution_count": 52,
   "metadata": {},
   "outputs": [],
   "source": [
    "h1 = Human(\"Mohit\", 23)\n",
    "h2 = Human(\"Prateek\", 27)\n",
    "h3 = Human(\"Jatin\", 26)"
   ]
  },
  {
   "cell_type": "code",
   "execution_count": 53,
   "metadata": {},
   "outputs": [
    {
     "data": {
      "text/plain": [
       "3"
      ]
     },
     "execution_count": 53,
     "metadata": {},
     "output_type": "execute_result"
    }
   ],
   "source": [
    "Human.population"
   ]
  },
  {
   "cell_type": "code",
   "execution_count": 54,
   "metadata": {},
   "outputs": [
    {
     "data": {
      "text/plain": [
       "[[101, Mohit, 23, True], [102, Prateek, 27, True], [103, Jatin, 26, True]]"
      ]
     },
     "execution_count": 54,
     "metadata": {},
     "output_type": "execute_result"
    }
   ],
   "source": [
    "Human.database"
   ]
  },
  {
   "cell_type": "code",
   "execution_count": 55,
   "metadata": {},
   "outputs": [],
   "source": [
    "hit = Hitman(\"James\", 30)"
   ]
  },
  {
   "cell_type": "code",
   "execution_count": 56,
   "metadata": {},
   "outputs": [
    {
     "data": {
      "text/plain": [
       "4"
      ]
     },
     "execution_count": 56,
     "metadata": {},
     "output_type": "execute_result"
    }
   ],
   "source": [
    "Human.population"
   ]
  },
  {
   "cell_type": "code",
   "execution_count": 57,
   "metadata": {},
   "outputs": [
    {
     "data": {
      "text/plain": [
       "[[101, Mohit, 23, True],\n",
       " [102, Prateek, 27, True],\n",
       " [103, Jatin, 26, True],\n",
       " [104, James, 30, True]]"
      ]
     },
     "execution_count": 57,
     "metadata": {},
     "output_type": "execute_result"
    }
   ],
   "source": [
    "Human.database"
   ]
  },
  {
   "cell_type": "code",
   "execution_count": 58,
   "metadata": {},
   "outputs": [
    {
     "name": "stdout",
     "output_type": "stream",
     "text": [
      "James is killing Jatin\n",
      "Jatin is dying...\n"
     ]
    }
   ],
   "source": [
    "hit.kill(h3)"
   ]
  },
  {
   "cell_type": "code",
   "execution_count": 59,
   "metadata": {},
   "outputs": [
    {
     "data": {
      "text/plain": [
       "1"
      ]
     },
     "execution_count": 59,
     "metadata": {},
     "output_type": "execute_result"
    }
   ],
   "source": [
    "hit.kills"
   ]
  },
  {
   "cell_type": "code",
   "execution_count": 60,
   "metadata": {},
   "outputs": [
    {
     "data": {
      "text/plain": [
       "[[103, Jatin, 26, False]]"
      ]
     },
     "execution_count": 60,
     "metadata": {},
     "output_type": "execute_result"
    }
   ],
   "source": [
    "hit.kill_list"
   ]
  },
  {
   "cell_type": "code",
   "execution_count": 89,
   "metadata": {},
   "outputs": [
    {
     "name": "stdout",
     "output_type": "stream",
     "text": [
      "Jatin is already dead.\n"
     ]
    }
   ],
   "source": [
    "hit.kill(h3)"
   ]
  },
  {
   "cell_type": "code",
   "execution_count": 90,
   "metadata": {},
   "outputs": [
    {
     "data": {
      "text/plain": [
       "1"
      ]
     },
     "execution_count": 90,
     "metadata": {},
     "output_type": "execute_result"
    }
   ],
   "source": [
    "hit.kills"
   ]
  },
  {
   "cell_type": "code",
   "execution_count": null,
   "metadata": {},
   "outputs": [],
   "source": []
  },
  {
   "cell_type": "code",
   "execution_count": null,
   "metadata": {},
   "outputs": [],
   "source": []
  },
  {
   "cell_type": "code",
   "execution_count": null,
   "metadata": {},
   "outputs": [],
   "source": []
  },
  {
   "cell_type": "markdown",
   "metadata": {},
   "source": [
    "# Multi-level Inheritence"
   ]
  },
  {
   "cell_type": "code",
   "execution_count": null,
   "metadata": {},
   "outputs": [],
   "source": []
  },
  {
   "cell_type": "code",
   "execution_count": 1,
   "metadata": {},
   "outputs": [],
   "source": [
    "class A:\n",
    "    def m(self):\n",
    "        print(\"I am inside class A\")\n",
    "        \n",
    "class B(A):\n",
    "    def m1(self):\n",
    "        print(\"I am inside class B\")\n",
    "        \n",
    "class C(B):\n",
    "    def m1(self):\n",
    "        print(\"I am inside class C\")\n",
    "    \n",
    "    def m2(self):\n",
    "        print(\"I am inside class C\")"
   ]
  },
  {
   "cell_type": "code",
   "execution_count": 2,
   "metadata": {},
   "outputs": [],
   "source": [
    "obj1 = A()\n",
    "obj2 = B()\n",
    "obj3 = C()"
   ]
  },
  {
   "cell_type": "code",
   "execution_count": 3,
   "metadata": {},
   "outputs": [
    {
     "name": "stdout",
     "output_type": "stream",
     "text": [
      "I am inside class A\n"
     ]
    }
   ],
   "source": [
    "obj1.m()"
   ]
  },
  {
   "cell_type": "code",
   "execution_count": 6,
   "metadata": {},
   "outputs": [
    {
     "name": "stdout",
     "output_type": "stream",
     "text": [
      "I am inside class A\n"
     ]
    }
   ],
   "source": [
    "obj2.m()"
   ]
  },
  {
   "cell_type": "code",
   "execution_count": 5,
   "metadata": {},
   "outputs": [
    {
     "name": "stdout",
     "output_type": "stream",
     "text": [
      "I am inside class B\n"
     ]
    }
   ],
   "source": [
    "obj2.m1()"
   ]
  },
  {
   "cell_type": "code",
   "execution_count": 7,
   "metadata": {},
   "outputs": [
    {
     "name": "stdout",
     "output_type": "stream",
     "text": [
      "I am inside class A\n"
     ]
    }
   ],
   "source": [
    "obj3.m()"
   ]
  },
  {
   "cell_type": "code",
   "execution_count": 8,
   "metadata": {},
   "outputs": [
    {
     "name": "stdout",
     "output_type": "stream",
     "text": [
      "I am inside class C\n"
     ]
    }
   ],
   "source": [
    "obj3.m1()"
   ]
  },
  {
   "cell_type": "code",
   "execution_count": 9,
   "metadata": {},
   "outputs": [
    {
     "name": "stdout",
     "output_type": "stream",
     "text": [
      "I am inside class C\n"
     ]
    }
   ],
   "source": [
    "obj3.m2()"
   ]
  },
  {
   "cell_type": "code",
   "execution_count": null,
   "metadata": {},
   "outputs": [],
   "source": []
  },
  {
   "cell_type": "markdown",
   "metadata": {},
   "source": [
    "# Multiple Inheritance\n",
    "    - when a class derives from 2 or more classes."
   ]
  },
  {
   "cell_type": "code",
   "execution_count": 18,
   "metadata": {},
   "outputs": [],
   "source": [
    "class A():\n",
    "    def find(self):\n",
    "        print(\"Executed from class A\")\n",
    "        \n",
    "class B():\n",
    "    def explore(self):\n",
    "        print(\"Executed from class B\")\n",
    "    \n",
    "    def discover(self):\n",
    "        print(\"Executed from class B\")\n",
    "\n",
    "class C(A,B):\n",
    "    def explore(self):\n",
    "        print(\"Executed from class C\")"
   ]
  },
  {
   "cell_type": "code",
   "execution_count": 20,
   "metadata": {},
   "outputs": [],
   "source": [
    "obj = C()"
   ]
  },
  {
   "cell_type": "code",
   "execution_count": 15,
   "metadata": {},
   "outputs": [
    {
     "name": "stdout",
     "output_type": "stream",
     "text": [
      "Executed from class A\n"
     ]
    }
   ],
   "source": [
    "obj.find()"
   ]
  },
  {
   "cell_type": "code",
   "execution_count": 16,
   "metadata": {},
   "outputs": [
    {
     "name": "stdout",
     "output_type": "stream",
     "text": [
      "Executed from class B\n"
     ]
    }
   ],
   "source": [
    "obj.discover()"
   ]
  },
  {
   "cell_type": "code",
   "execution_count": 21,
   "metadata": {},
   "outputs": [
    {
     "name": "stdout",
     "output_type": "stream",
     "text": [
      "Executed from class B\n"
     ]
    }
   ],
   "source": [
    "obj.explore()"
   ]
  },
  {
   "cell_type": "code",
   "execution_count": null,
   "metadata": {},
   "outputs": [],
   "source": []
  },
  {
   "cell_type": "markdown",
   "metadata": {},
   "source": [
    "# Method Resolution Order (MRO)"
   ]
  },
  {
   "cell_type": "code",
   "execution_count": 24,
   "metadata": {},
   "outputs": [],
   "source": [
    "class Random(object):\n",
    "    pass\n",
    "\n",
    "# __new__\n",
    "# __init__\n",
    "# __str__"
   ]
  },
  {
   "cell_type": "code",
   "execution_count": 35,
   "metadata": {},
   "outputs": [],
   "source": [
    "class A():\n",
    "    def find(self):\n",
    "        print(\"Executed from class A\")\n",
    "    \n",
    "    def discover(self):\n",
    "        print(\"Executed from class A\")\n",
    "    \n",
    "class B():\n",
    "    def explore(self):\n",
    "        print(\"Executed from class B\")\n",
    "    \n",
    "    def discover(self):\n",
    "        print(\"Executed from class B\")\n",
    "\n",
    "class C(B,A):\n",
    "    def explore(self):\n",
    "        print(\"Executed from class C\")"
   ]
  },
  {
   "cell_type": "code",
   "execution_count": 36,
   "metadata": {},
   "outputs": [],
   "source": [
    "obj = C()"
   ]
  },
  {
   "cell_type": "code",
   "execution_count": 37,
   "metadata": {},
   "outputs": [
    {
     "name": "stdout",
     "output_type": "stream",
     "text": [
      "Executed from class B\n"
     ]
    }
   ],
   "source": [
    "obj.discover()"
   ]
  },
  {
   "cell_type": "code",
   "execution_count": 40,
   "metadata": {},
   "outputs": [
    {
     "data": {
      "text/plain": [
       "[__main__.C, __main__.B, __main__.A, object]"
      ]
     },
     "execution_count": 40,
     "metadata": {},
     "output_type": "execute_result"
    }
   ],
   "source": [
    "C.mro()"
   ]
  },
  {
   "cell_type": "code",
   "execution_count": 41,
   "metadata": {},
   "outputs": [
    {
     "name": "stdout",
     "output_type": "stream",
     "text": [
      "Executed from class B\n"
     ]
    }
   ],
   "source": [
    "obj.discover()"
   ]
  },
  {
   "cell_type": "code",
   "execution_count": null,
   "metadata": {},
   "outputs": [],
   "source": []
  }
 ],
 "metadata": {
  "interpreter": {
   "hash": "31207f7f45b7f40f17c5b6dc2661d00c869d61649919135241f1fba84b9bb9cb"
  },
  "kernelspec": {
   "display_name": "Python 3.9.12 ('base')",
   "language": "python",
   "name": "python3"
  },
  "language_info": {
   "codemirror_mode": {
    "name": "ipython",
    "version": 3
   },
   "file_extension": ".py",
   "mimetype": "text/x-python",
   "name": "python",
   "nbconvert_exporter": "python",
   "pygments_lexer": "ipython3",
   "version": "3.9.12"
  }
 },
 "nbformat": 4,
 "nbformat_minor": 4
}
