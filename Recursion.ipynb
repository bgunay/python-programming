{
 "cells": [
  {
   "cell_type": "markdown",
   "metadata": {},
   "source": [
    "## Recursion (Section 23)"
   ]
  },
  {
   "cell_type": "code",
   "execution_count": 2,
   "metadata": {},
   "outputs": [
    {
     "name": "stdout",
     "output_type": "stream",
     "text": [
      "720\n"
     ]
    }
   ],
   "source": [
    "# Binary Search\n",
    "\n",
    "def factorial(n):\n",
    "    # base case\n",
    "    if n == 0:\n",
    "        return 1;\n",
    "    # recursive case\n",
    "    ans = n * factorial(n-1)\n",
    "    return ans\n",
    "\n",
    "print(factorial(int(input())))\n"
   ]
  },
  {
   "cell_type": "code",
   "execution_count": 5,
   "metadata": {},
   "outputs": [
    {
     "name": "stdout",
     "output_type": "stream",
     "text": [
      "4\n"
     ]
    }
   ],
   "source": [
    "#Ladder | Number of the ways to climb to the ladder, we can take jump of 1,2 or 3 jump at each step (https://www.udemy.com/course/python-programming-beginners-bootcamp/learn/lecture/28225536#overview)\n",
    "# f(n) = f(n-1) +  f(n-2) + f(n-3)\n",
    "\n",
    "def ladder(n):\n",
    "    # base case h = 0->1, h = 1->1\n",
    "    if n == 0:\n",
    "        return 1\n",
    "\n",
    "    if n < 0:\n",
    "        return 0\n",
    "    \n",
    "    ans = ladder(n-1) + ladder(n-2) + ladder(n-3)\n",
    "    return ans\n",
    "\n",
    "print(ladder(int(input())))\n"
   ]
  },
  {
   "cell_type": "code",
   "execution_count": 27,
   "metadata": {},
   "outputs": [
    {
     "name": "stdout",
     "output_type": "stream",
     "text": [
      "3\n"
     ]
    }
   ],
   "source": [
    "# SubSequences | Find a SubSets of a given string (https://www.udemy.com/course/python-programming-beginners-bootcamp/learn/lecture/28241412#overview)\n",
    "\n",
    "# Example: inout: abc | a,b,c,ab,ac,bc,abc\n",
    "# \n",
    "\n",
    "import collections\n",
    "\n",
    "def numDistinct(s, t):\n",
    "    chars, index, dp = set(t), collections.defaultdict(list), [0] * len(t)\n",
    "    for i, c in enumerate(t): index[c] = [i] + index[c]\n",
    "    for c in s:\n",
    "        if c in chars:\n",
    "            for i in index[c]: dp[i] += dp[i - 1] if i > 0 else 1\n",
    "    return dp[-1]\n",
    "     \n",
    "# Driver code\n",
    "print(numDistinct( 'rabbbit', 'rabbit'))"
   ]
  },
  {
   "cell_type": "code",
   "execution_count": null,
   "metadata": {},
   "outputs": [],
   "source": [
    "# Generate Brackets | https://www.udemy.com/course/python-programming-beginners-bootcamp/learn/lecture/28225540#overview\n",
    "\n",
    "\n",
    "\n"
   ]
  }
 ],
 "metadata": {
  "interpreter": {
   "hash": "31207f7f45b7f40f17c5b6dc2661d00c869d61649919135241f1fba84b9bb9cb"
  },
  "kernelspec": {
   "display_name": "Python 3.9.12 ('base')",
   "language": "python",
   "name": "python3"
  },
  "language_info": {
   "codemirror_mode": {
    "name": "ipython",
    "version": 3
   },
   "file_extension": ".py",
   "mimetype": "text/x-python",
   "name": "python",
   "nbconvert_exporter": "python",
   "pygments_lexer": "ipython3",
   "version": "3.9.12"
  }
 },
 "nbformat": 4,
 "nbformat_minor": 4
}
