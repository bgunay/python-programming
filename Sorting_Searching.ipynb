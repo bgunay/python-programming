{
 "cells": [
  {
   "cell_type": "markdown",
   "metadata": {},
   "source": [
    "## Sorting and Searching (Section 22)"
   ]
  },
  {
   "cell_type": "code",
   "execution_count": 8,
   "metadata": {},
   "outputs": [
    {
     "name": "stdout",
     "output_type": "stream",
     "text": [
      "Element not found\n"
     ]
    }
   ],
   "source": [
    "# Binary Search\n",
    "\n",
    "def binary_search(arr, x):\n",
    "    s = 0\n",
    "    e = len(arr) - 1\n",
    "\n",
    "    while s <= e:\n",
    "        mid = (s+e)//2\n",
    "\n",
    "        if arr[mid] < x:\n",
    "            s = mid + 1\n",
    "        elif arr[mid] > x:\n",
    "            e = mid-1\n",
    "        else:\n",
    "            return mid\n",
    "    return -1\n",
    "\n",
    "\n",
    "arr = [2, 3, 4, 10, 40]\n",
    "idx = binary_search(arr, int(input()))\n",
    "\n",
    "if idx != -1:\n",
    "    print(\"Element found at index {}\".format(idx))\n",
    "else:\n",
    "    print(\"Element not found\")\n"
   ]
  },
  {
   "cell_type": "code",
   "execution_count": 17,
   "metadata": {},
   "outputs": [
    {
     "name": "stdout",
     "output_type": "stream",
     "text": [
      "(3, 2)\n"
     ]
    }
   ],
   "source": [
    "# Staircase Search (https://www.udemy.com/course/python-programming-beginners-bootcamp/learn/lecture/28225020#overview)\n",
    "\n",
    "\n",
    "def stairCaseSearch(mat, m, n, key):\n",
    "    i = 0\n",
    "    j = n-1\n",
    "\n",
    "    while i < m and j >= 0:\n",
    "            current =  mat[i][j]\n",
    "            if current < key:\n",
    "                i += 1\n",
    "            elif current > key:\n",
    "                j -= 1\n",
    "            else:\n",
    "                return i, j\n",
    "\n",
    "    return -1\n",
    "\n",
    "\n",
    "mat = [\n",
    "    [10, 20, 30, 40],\n",
    "    [15, 25, 35, 45],\n",
    "    [27, 29, 37, 47],\n",
    "    [32, 33, 39, 50]]\n",
    "\n",
    "m, n = 4, 4\n",
    "key = int(input())\n",
    "result = stairCaseSearch(mat, m, n, key)\n",
    "if result == -1:\n",
    "    print(key, \" not found\")\n",
    "else:\n",
    "    print(result)\n"
   ]
  },
  {
   "cell_type": "code",
   "execution_count": 35,
   "metadata": {},
   "outputs": [
    {
     "name": "stdout",
     "output_type": "stream",
     "text": [
      "5 is bigger than 4, swapping\n",
      "5 is bigger than 3, swapping\n",
      "5 is bigger than 2, swapping\n",
      "5 is bigger than 1, swapping\n",
      "4 is bigger than 3, swapping\n",
      "4 is bigger than 2, swapping\n",
      "4 is bigger than 1, swapping\n",
      "3 is bigger than 2, swapping\n",
      "3 is bigger than 1, swapping\n",
      "2 is bigger than 1, swapping\n",
      "[1, 2, 3, 4, 5]\n"
     ]
    }
   ],
   "source": [
    "# Bubble Sort\n",
    "\n",
    "def swap(i, j, array):\n",
    "    array[i], array[j] = array[j], array[i]\n",
    "\n",
    "\n",
    "def bubbleSort(array):\n",
    "    n = len(array)\n",
    "\n",
    "    for times in range(n-1):\n",
    "        for j in range(n-times-1):\n",
    "            if array[j] > array[j+1]:\n",
    "                print(\"{} is bigger than {}, swapping\".format(array[j], array[j+1]))\n",
    "                swap(j, j + 1, array)\n",
    "\n",
    "\n",
    "array = [5, 4, 3, 2, 1]\n",
    "bubbleSort(array)\n",
    "print(array)"
   ]
  },
  {
   "cell_type": "code",
   "execution_count": 36,
   "metadata": {},
   "outputs": [
    {
     "name": "stdout",
     "output_type": "stream",
     "text": [
      "swapping 1 with 3\n",
      "new array: [1, 4, 6, 2, 3, 8] \n",
      "swapping 2 with 4\n",
      "new array: [1, 2, 6, 4, 3, 8] \n",
      "swapping 3 with 6\n",
      "new array: [1, 2, 3, 4, 6, 8] \n",
      "[1, 2, 3, 4, 6, 8]\n"
     ]
    }
   ],
   "source": [
    "# Selection Sort (https://www.udemy.com/course/python-programming-beginners-bootcamp/learn/lecture/28225466#overview)\n",
    "\n",
    "def swap(i, j, array):\n",
    "    array[i], array[j] = array[j], array[i]\n",
    "\n",
    "\n",
    "def selectionSort(array):\n",
    "    n = len(array)\n",
    "\n",
    "    for idx in range(n-1):\n",
    "        current = array[idx]\n",
    "        min_idx = idx\n",
    "\n",
    "        for j in range(idx, n):\n",
    "            if array[j] < array[min_idx]:\n",
    "                min_idx = j\n",
    "                \n",
    "        if(min_idx != idx):\n",
    "            print(\"swapping {} with {}\".format(array[min_idx], array[idx]))\n",
    "            swap(min_idx, idx, array)\n",
    "            print(\"new array: {} \".format(array))\n",
    "\n",
    "\n",
    "array = [3, 4, 6, 2, 1, 8]\n",
    "selectionSort(array)\n",
    "print(array)\n"
   ]
  },
  {
   "cell_type": "code",
   "execution_count": 39,
   "metadata": {},
   "outputs": [
    {
     "name": "stdout",
     "output_type": "stream",
     "text": [
      "[1, 2, 3, 4, 5, 10]\n"
     ]
    }
   ],
   "source": [
    "# Insertion Sort (https://www.udemy.com/course/python-programming-beginners-bootcamp/learn/lecture/28225472#overview)\n",
    "\n",
    "def insertionSort(array):\n",
    "    n = len(array)\n",
    "\n",
    "    for i in range(1, n):\n",
    "        current = array[i]\n",
    "        prev = i - 1\n",
    "\n",
    "        while prev >= 0 and array[prev] > current:\n",
    "            array[prev + 1] = array[prev] ## put it on current element position\n",
    "            prev = prev - 1\n",
    "\n",
    "        # current element in the right index (prev + 1)\n",
    "        array[prev + 1] = current\n",
    "\n",
    "\n",
    "array = [10, 5, 3, 4, 2, 1]\n",
    "insertionSort(array)\n",
    "print(array)\n"
   ]
  },
  {
   "cell_type": "code",
   "execution_count": 58,
   "metadata": {},
   "outputs": [
    {
     "name": "stdout",
     "output_type": "stream",
     "text": [
      "[('cab5', 5, 3), ('cab2', 2, 3), ('cab1', 1, 2), ('cab3', 1, 0), ('cab4', 0, 0)]\n",
      "[('cab4', 0, 0), ('cab3', 1, 0), ('cab1', 1, 2), ('cab2', 2, 3), ('cab5', 5, 3)]\n"
     ]
    }
   ],
   "source": [
    "# Sorting with Comparators\n",
    "\n",
    "def distance(cabs):\n",
    "    x = cabs[1]\n",
    "    y = cabs[2]\n",
    "    return (x**2 + y**2)**.5\n",
    "\n",
    "\n",
    "def sortCabs(cabs):\n",
    "    cabs.sort(key=lambda cabs: ((cabs[1]**2 + cabs[1]**2)**.5), reverse=True)\n",
    "\n",
    "\n",
    "def sortCabs2(cabs):\n",
    "    cabs.sort(key=distance)\n",
    "\n",
    "\n",
    "cabs = [\n",
    "    (\"cab1\", 1, 2),\n",
    "    (\"cab2\", 2, 3),\n",
    "    (\"cab3\", 1, 0),\n",
    "    (\"cab4\", 0, 0),\n",
    "    (\"cab5\", 5, 3)\n",
    "]\n",
    "\n",
    "sortCabs(cabs)\n",
    "print(cabs)\n",
    "\n",
    "sortCabs2(cabs)\n",
    "print(cabs)\n"
   ]
  }
 ],
 "metadata": {
  "interpreter": {
   "hash": "31207f7f45b7f40f17c5b6dc2661d00c869d61649919135241f1fba84b9bb9cb"
  },
  "kernelspec": {
   "display_name": "Python 3.9.12 ('base')",
   "language": "python",
   "name": "python3"
  },
  "language_info": {
   "codemirror_mode": {
    "name": "ipython",
    "version": 3
   },
   "file_extension": ".py",
   "mimetype": "text/x-python",
   "name": "python",
   "nbconvert_exporter": "python",
   "pygments_lexer": "ipython3",
   "version": "3.9.12"
  }
 },
 "nbformat": 4,
 "nbformat_minor": 4
}
