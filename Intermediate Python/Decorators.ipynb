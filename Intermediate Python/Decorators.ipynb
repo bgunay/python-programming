{
 "cells": [
  {
   "cell_type": "markdown",
   "id": "7fc064a9",
   "metadata": {},
   "source": [
    "# Higher order functions\n",
    "\n",
    "- Everything in Python is object, including functions.\n",
    "- functions that take other functions as arguments are also called higher order functions."
   ]
  },
  {
   "cell_type": "code",
   "execution_count": 1,
   "id": "83a50c6f",
   "metadata": {},
   "outputs": [],
   "source": [
    "def add(ele): return ele + 1\n",
    "\n",
    "def sub(ele): return ele - 1"
   ]
  },
  {
   "cell_type": "code",
   "execution_count": 2,
   "id": "32c11d08",
   "metadata": {},
   "outputs": [],
   "source": [
    "def calculator(operator, number):\n",
    "    result = operator(number)\n",
    "    return result"
   ]
  },
  {
   "cell_type": "code",
   "execution_count": 3,
   "id": "76fe7785",
   "metadata": {},
   "outputs": [
    {
     "name": "stdout",
     "output_type": "stream",
     "text": [
      "\u001b[1;31mSignature:\u001b[0m \u001b[0madd\u001b[0m\u001b[1;33m(\u001b[0m\u001b[0mele\u001b[0m\u001b[1;33m)\u001b[0m\u001b[1;33m\u001b[0m\u001b[1;33m\u001b[0m\u001b[0m\n",
      "\u001b[1;31mDocstring:\u001b[0m <no docstring>\n",
      "\u001b[1;31mSource:\u001b[0m    \u001b[1;32mdef\u001b[0m \u001b[0madd\u001b[0m\u001b[1;33m(\u001b[0m\u001b[0mele\u001b[0m\u001b[1;33m)\u001b[0m\u001b[1;33m:\u001b[0m \u001b[1;32mreturn\u001b[0m \u001b[0mele\u001b[0m \u001b[1;33m+\u001b[0m \u001b[1;36m1\u001b[0m\u001b[1;33m\u001b[0m\u001b[1;33m\u001b[0m\u001b[0m\n",
      "\u001b[1;31mFile:\u001b[0m      c:\\users\\brhng\\appdata\\local\\temp\\ipykernel_21644\\3138736314.py\n",
      "\u001b[1;31mType:\u001b[0m      function\n"
     ]
    }
   ],
   "source": [
    "add??"
   ]
  },
  {
   "cell_type": "code",
   "execution_count": 4,
   "id": "845d8156",
   "metadata": {},
   "outputs": [
    {
     "data": {
      "text/plain": [
       "6"
      ]
     },
     "execution_count": 4,
     "metadata": {},
     "output_type": "execute_result"
    }
   ],
   "source": [
    "calculator(add, 5)"
   ]
  },
  {
   "cell_type": "code",
   "execution_count": 5,
   "id": "cd98edf5",
   "metadata": {},
   "outputs": [
    {
     "data": {
      "text/plain": [
       "8"
      ]
     },
     "execution_count": 5,
     "metadata": {},
     "output_type": "execute_result"
    }
   ],
   "source": [
    "calculator(sub, 9)"
   ]
  },
  {
   "cell_type": "code",
   "execution_count": null,
   "id": "e24928ed",
   "metadata": {},
   "outputs": [],
   "source": []
  },
  {
   "cell_type": "markdown",
   "id": "d70c991f",
   "metadata": {},
   "source": [
    "# Python Decorators\n",
    "\n",
    "- A decorator takes a function as arguments, adds some functionality to the exisiting code and returns a function.\n",
    "\n",
    "\n",
    "<img src=\"https://media.giphy.com/media/73Y6EEJqbyGovenlLE/giphy.gif\" wdith=300>"
   ]
  },
  {
   "cell_type": "code",
   "execution_count": 23,
   "id": "01e107ff",
   "metadata": {},
   "outputs": [],
   "source": [
    "def basic():\n",
    "    print(\"I am a very basic function.\")"
   ]
  },
  {
   "cell_type": "code",
   "execution_count": 24,
   "id": "a1c2a7c6",
   "metadata": {},
   "outputs": [
    {
     "name": "stdout",
     "output_type": "stream",
     "text": [
      "I am a very basic function.\n"
     ]
    }
   ],
   "source": [
    "basic()"
   ]
  },
  {
   "cell_type": "code",
   "execution_count": 25,
   "id": "91edd9ec",
   "metadata": {},
   "outputs": [],
   "source": [
    "def add_features(func):\n",
    "    def wrapper():\n",
    "        print(\"=\"*30)\n",
    "        print(\"A new feature is added\")\n",
    "        print(\"=\"*30)\n",
    "        func()\n",
    "    return wrapper"
   ]
  },
  {
   "cell_type": "code",
   "execution_count": 26,
   "id": "da51b729",
   "metadata": {},
   "outputs": [
    {
     "name": "stdout",
     "output_type": "stream",
     "text": [
      "\u001b[1;31mSignature:\u001b[0m \u001b[0mbasic\u001b[0m\u001b[1;33m(\u001b[0m\u001b[1;33m)\u001b[0m\u001b[1;33m\u001b[0m\u001b[1;33m\u001b[0m\u001b[0m\n",
      "\u001b[1;31mDocstring:\u001b[0m <no docstring>\n",
      "\u001b[1;31mSource:\u001b[0m   \n",
      "\u001b[1;32mdef\u001b[0m \u001b[0mbasic\u001b[0m\u001b[1;33m(\u001b[0m\u001b[1;33m)\u001b[0m\u001b[1;33m:\u001b[0m\u001b[1;33m\n",
      "\u001b[0m    \u001b[0mprint\u001b[0m\u001b[1;33m(\u001b[0m\u001b[1;34m\"I am a very basic function.\"\u001b[0m\u001b[1;33m)\u001b[0m\u001b[1;33m\u001b[0m\u001b[1;33m\u001b[0m\u001b[0m\n",
      "\u001b[1;31mFile:\u001b[0m      c:\\users\\brhng\\appdata\\local\\temp\\ipykernel_21644\\3441116803.py\n",
      "\u001b[1;31mType:\u001b[0m      function\n"
     ]
    }
   ],
   "source": [
    "basic??"
   ]
  },
  {
   "cell_type": "code",
   "execution_count": 27,
   "id": "df948244",
   "metadata": {},
   "outputs": [],
   "source": [
    "new_func = add_features(basic)"
   ]
  },
  {
   "cell_type": "code",
   "execution_count": 28,
   "id": "b5b0d63d",
   "metadata": {},
   "outputs": [
    {
     "name": "stdout",
     "output_type": "stream",
     "text": [
      "==============================\n",
      "A new feature is added\n",
      "==============================\n",
      "I am a very basic function.\n"
     ]
    }
   ],
   "source": [
    "new_func()"
   ]
  },
  {
   "cell_type": "markdown",
   "id": "aae47184",
   "metadata": {},
   "source": [
    "We can see that the decorator function added some new functionality to the original function. This is similar to packing a gift. The decorator acts as a wrapper."
   ]
  },
  {
   "cell_type": "code",
   "execution_count": null,
   "id": "ac5bb12f",
   "metadata": {},
   "outputs": [],
   "source": []
  },
  {
   "cell_type": "markdown",
   "id": "c38c3f0e",
   "metadata": {},
   "source": [
    "# The Decorative call...\n",
    "- We can use the @ symbol along with the name of the decorator function and place it above the definition of the function to be decorated. "
   ]
  },
  {
   "cell_type": "code",
   "execution_count": 29,
   "id": "03337227",
   "metadata": {},
   "outputs": [],
   "source": [
    "@add_features\n",
    "def new_basic():\n",
    "    print(\"I am also a simple function\")"
   ]
  },
  {
   "cell_type": "code",
   "execution_count": 30,
   "id": "c6a39fdf",
   "metadata": {},
   "outputs": [
    {
     "name": "stdout",
     "output_type": "stream",
     "text": [
      "==============================\n",
      "A new feature is added\n",
      "==============================\n",
      "I am also a simple function\n"
     ]
    }
   ],
   "source": [
    "new_basic()"
   ]
  },
  {
   "cell_type": "code",
   "execution_count": null,
   "id": "1bb1df2b",
   "metadata": {},
   "outputs": [],
   "source": []
  },
  {
   "cell_type": "code",
   "execution_count": null,
   "id": "7586414e",
   "metadata": {},
   "outputs": [],
   "source": []
  },
  {
   "cell_type": "markdown",
   "id": "26a81075",
   "metadata": {},
   "source": [
    "# Decorating Function with parameters"
   ]
  },
  {
   "cell_type": "code",
   "execution_count": 40,
   "id": "78d24a4d",
   "metadata": {},
   "outputs": [],
   "source": [
    "DB = {\n",
    "    'mohit' : 'mohit@123',\n",
    "    'prateek': 'prateek@123'\n",
    "}"
   ]
  },
  {
   "cell_type": "code",
   "execution_count": 41,
   "id": "dd95f14d",
   "metadata": {},
   "outputs": [],
   "source": [
    "def login(func):\n",
    "    def wrapper(username, password, *args, **kwargs):\n",
    "        if username in DB and DB[username] == password:\n",
    "            # successful\n",
    "            func(*args, **kwargs)\n",
    "        else:\n",
    "            print(\"Authentication failed\")\n",
    "            \n",
    "    return wrapper"
   ]
  },
  {
   "cell_type": "code",
   "execution_count": 42,
   "id": "12e30d4c",
   "metadata": {},
   "outputs": [],
   "source": [
    "@login\n",
    "def add(a,b):\n",
    "    print(a+b)"
   ]
  },
  {
   "cell_type": "code",
   "execution_count": 49,
   "id": "7dcf6017",
   "metadata": {},
   "outputs": [
    {
     "name": "stdout",
     "output_type": "stream",
     "text": [
      "Authentication failed\n"
     ]
    }
   ],
   "source": [
    "add(\"burhan\", \"gunay@123\", 5,10)"
   ]
  },
  {
   "cell_type": "code",
   "execution_count": 50,
   "id": "5d1a0e38",
   "metadata": {},
   "outputs": [
    {
     "name": "stdout",
     "output_type": "stream",
     "text": [
      "15\n"
     ]
    }
   ],
   "source": [
    "add(\"prateek\", \"prateek@123\", 5,10)"
   ]
  },
  {
   "cell_type": "code",
   "execution_count": 51,
   "id": "24a406f4",
   "metadata": {},
   "outputs": [
    {
     "name": "stdout",
     "output_type": "stream",
     "text": [
      "Authentication failed\n"
     ]
    }
   ],
   "source": [
    "add(5, 6)"
   ]
  },
  {
   "cell_type": "code",
   "execution_count": null,
   "id": "f99ce1c9",
   "metadata": {},
   "outputs": [],
   "source": []
  },
  {
   "cell_type": "markdown",
   "id": "15b0c472",
   "metadata": {},
   "source": [
    "## Chaining Decorators in Python\n",
    "- Multiple decorators can be chained in Python.\n",
    "- A function can be decorated multiple times with different decorators."
   ]
  },
  {
   "cell_type": "code",
   "execution_count": 52,
   "id": "a99f3711",
   "metadata": {},
   "outputs": [],
   "source": [
    "# decorator function\n",
    "def star(func):\n",
    "    def wrapper(*args, **kwargs):\n",
    "        print(\"*\"*30)\n",
    "        func(*args, **kwargs)\n",
    "        print(\"*\"*30)\n",
    "    return wrapper"
   ]
  },
  {
   "cell_type": "code",
   "execution_count": 53,
   "id": "2f806876",
   "metadata": {},
   "outputs": [],
   "source": [
    "# decorator function\n",
    "def dollar(func):\n",
    "    def wrapper(*args, **kwargs):\n",
    "        print(\"$\"*30)\n",
    "        func(*args, **kwargs)\n",
    "        print(\"$\"*30)\n",
    "    return wrapper"
   ]
  },
  {
   "cell_type": "code",
   "execution_count": 54,
   "id": "b27d958d",
   "metadata": {},
   "outputs": [],
   "source": [
    "@dollar\n",
    "@star\n",
    "def main(message):\n",
    "    print(message)"
   ]
  },
  {
   "cell_type": "code",
   "execution_count": 55,
   "id": "070be582",
   "metadata": {},
   "outputs": [
    {
     "name": "stdout",
     "output_type": "stream",
     "text": [
      "$$$$$$$$$$$$$$$$$$$$$$$$$$$$$$\n",
      "******************************\n",
      "Hello world\n",
      "******************************\n",
      "$$$$$$$$$$$$$$$$$$$$$$$$$$$$$$\n"
     ]
    }
   ],
   "source": [
    "main(\"Hello world\")"
   ]
  },
  {
   "cell_type": "markdown",
   "id": "a2156dee",
   "metadata": {},
   "source": [
    "<img src=\"https://media.giphy.com/media/3oEjHQOeg3YhQ8REZ2/giphy.gif\" width=300>"
   ]
  }
 ],
 "metadata": {
  "interpreter": {
   "hash": "31207f7f45b7f40f17c5b6dc2661d00c869d61649919135241f1fba84b9bb9cb"
  },
  "kernelspec": {
   "display_name": "Python 3.9.12 ('base')",
   "language": "python",
   "name": "python3"
  },
  "language_info": {
   "codemirror_mode": {
    "name": "ipython",
    "version": 3
   },
   "file_extension": ".py",
   "mimetype": "text/x-python",
   "name": "python",
   "nbconvert_exporter": "python",
   "pygments_lexer": "ipython3",
   "version": "3.9.12"
  }
 },
 "nbformat": 4,
 "nbformat_minor": 5
}
