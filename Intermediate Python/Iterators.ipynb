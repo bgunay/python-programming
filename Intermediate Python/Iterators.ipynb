{
 "cells": [
  {
   "cell_type": "markdown",
   "id": "ed763869",
   "metadata": {},
   "source": [
    "# Python Iterators\n",
    "\n",
    "- Iterators are objects that can be iterated upon.\n",
    "- Terminology : iterator, iterable, iteration.\n",
    "\n",
    "\n",
    "\n",
    "<img src=\"https://media.giphy.com/media/l44QeXqzp5JoYSNe8/giphy.gif\" width=200>\n",
    "\n",
    "\n",
    "**Iterator**\n",
    "- Any object that you can traverse upon is an **iterator**. An object which will return data, one element at a time. \n",
    "- Python iterator object must implement two special methods, `__iter__()` and `__next__()` , known as iterator protocol.\n",
    "\n",
    "\n",
    "**Iterable**\n",
    "- An object is called **iterable** if we can get an iterator from it. Examples - list, tuple, string etc. are iterables.\n",
    "\n",
    "**Iteration**\n",
    "- repetiton of the process.\n"
   ]
  },
  {
   "cell_type": "markdown",
   "id": "b0446d6f",
   "metadata": {},
   "source": [
    "## Iterating Through an Iterator\n"
   ]
  },
  {
   "cell_type": "code",
   "execution_count": 2,
   "id": "b3eb343c",
   "metadata": {},
   "outputs": [],
   "source": [
    "# iterable \n",
    "my_list = [2,5,10,15]"
   ]
  },
  {
   "cell_type": "code",
   "execution_count": 3,
   "id": "c123f308",
   "metadata": {},
   "outputs": [],
   "source": [
    "# get an iterator.\n",
    "my_iter = iter(my_list)"
   ]
  },
  {
   "cell_type": "code",
   "execution_count": 4,
   "id": "54b59776",
   "metadata": {},
   "outputs": [
    {
     "data": {
      "text/plain": [
       "<list_iterator at 0x14a2e4a8040>"
      ]
     },
     "execution_count": 4,
     "metadata": {},
     "output_type": "execute_result"
    }
   ],
   "source": [
    "my_iter"
   ]
  },
  {
   "cell_type": "code",
   "execution_count": 5,
   "id": "4b9a71df",
   "metadata": {},
   "outputs": [
    {
     "data": {
      "text/plain": [
       "2"
      ]
     },
     "execution_count": 5,
     "metadata": {},
     "output_type": "execute_result"
    }
   ],
   "source": [
    "# next element\n",
    "next(my_iter)"
   ]
  },
  {
   "cell_type": "code",
   "execution_count": 6,
   "id": "c5f35b28",
   "metadata": {},
   "outputs": [
    {
     "data": {
      "text/plain": [
       "5"
      ]
     },
     "execution_count": 6,
     "metadata": {},
     "output_type": "execute_result"
    }
   ],
   "source": [
    "# next element\n",
    "next(my_iter)"
   ]
  },
  {
   "cell_type": "code",
   "execution_count": 7,
   "id": "fb664d78",
   "metadata": {},
   "outputs": [
    {
     "data": {
      "text/plain": [
       "10"
      ]
     },
     "execution_count": 7,
     "metadata": {},
     "output_type": "execute_result"
    }
   ],
   "source": [
    "# next element\n",
    "next(my_iter)"
   ]
  },
  {
   "cell_type": "code",
   "execution_count": 8,
   "id": "f67847b1",
   "metadata": {},
   "outputs": [
    {
     "data": {
      "text/plain": [
       "15"
      ]
     },
     "execution_count": 8,
     "metadata": {},
     "output_type": "execute_result"
    }
   ],
   "source": [
    "# next element\n",
    "next(my_iter)"
   ]
  },
  {
   "cell_type": "code",
   "execution_count": 9,
   "id": "96da1fa2",
   "metadata": {},
   "outputs": [
    {
     "ename": "StopIteration",
     "evalue": "",
     "output_type": "error",
     "traceback": [
      "\u001b[1;31m---------------------------------------------------------------------------\u001b[0m",
      "\u001b[1;31mStopIteration\u001b[0m                             Traceback (most recent call last)",
      "\u001b[1;32md:\\jWorkspace\\2021\\LearningAlgoPython\\Intermediate Python\\Iterators.ipynb Cell 10'\u001b[0m in \u001b[0;36m<cell line: 2>\u001b[1;34m()\u001b[0m\n\u001b[0;32m      <a href='vscode-notebook-cell:/d%3A/jWorkspace/2021/LearningAlgoPython/Intermediate%20Python/Iterators.ipynb#ch0000009?line=0'>1</a>\u001b[0m \u001b[39m# next element\u001b[39;00m\n\u001b[1;32m----> <a href='vscode-notebook-cell:/d%3A/jWorkspace/2021/LearningAlgoPython/Intermediate%20Python/Iterators.ipynb#ch0000009?line=1'>2</a>\u001b[0m \u001b[39mnext\u001b[39;49m(my_iter)\n",
      "\u001b[1;31mStopIteration\u001b[0m: "
     ]
    }
   ],
   "source": [
    "# next element\n",
    "next(my_iter)"
   ]
  },
  {
   "cell_type": "code",
   "execution_count": null,
   "id": "864ec5e8",
   "metadata": {},
   "outputs": [],
   "source": []
  },
  {
   "cell_type": "markdown",
   "id": "26c80b6a",
   "metadata": {},
   "source": [
    "## Loops for Iterators"
   ]
  },
  {
   "cell_type": "markdown",
   "id": "f1392a45",
   "metadata": {},
   "source": [
    "- A more elegant way of automatically iterating is by using the for loop. \n",
    "- We can iterate over any object that can return an iterator, for example list, string, file etc."
   ]
  },
  {
   "cell_type": "code",
   "execution_count": 10,
   "id": "2f0f5e42",
   "metadata": {},
   "outputs": [
    {
     "name": "stdout",
     "output_type": "stream",
     "text": [
      "2\n",
      "5\n",
      "10\n",
      "15\n"
     ]
    }
   ],
   "source": [
    "for ele in my_list:\n",
    "    print(ele)"
   ]
  },
  {
   "cell_type": "code",
   "execution_count": null,
   "id": "d4ae1039",
   "metadata": {},
   "outputs": [
    {
     "name": "stdout",
     "output_type": "stream",
     "text": [
      "2\n",
      "5\n",
      "10\n",
      "15\n"
     ]
    }
   ],
   "source": [
    "my_iter = iter(my_list)\n",
    "\n",
    "# infinte while loop\n",
    "while True:\n",
    "    try:\n",
    "        # getting the next element\n",
    "        ele = next(my_iter)\n",
    "        print(ele)\n",
    "    except StopIteration:\n",
    "        # all the elements are exhausated.\n",
    "        break"
   ]
  },
  {
   "cell_type": "code",
   "execution_count": null,
   "id": "a1517560",
   "metadata": {},
   "outputs": [],
   "source": []
  },
  {
   "cell_type": "markdown",
   "id": "ca76c0e2",
   "metadata": {},
   "source": [
    "# Building Custom Iterators\n",
    "- Every custom iterator must implement the `__iter__()` and the `__next__()` methods.\n",
    "- The `__iter__()` method returns the iterator object itself.\n",
    "- The `__next__()` method must return the next item in the sequence. On reaching the last element, it must raise StopIteration."
   ]
  },
  {
   "cell_type": "code",
   "execution_count": 11,
   "id": "4b1248cc",
   "metadata": {},
   "outputs": [],
   "source": [
    "class CubeNumber:\n",
    "    def __init__(self, number = 0):\n",
    "        self.number = number\n",
    "        \n",
    "    def __iter__(self):\n",
    "        self.ele = 0\n",
    "        return self\n",
    "    \n",
    "    def __next__(self):\n",
    "        if self.ele <= self.number:\n",
    "            result = self.ele**3\n",
    "            self.ele += 1\n",
    "            return result\n",
    "        else:\n",
    "            raise StopIteration"
   ]
  },
  {
   "cell_type": "code",
   "execution_count": 12,
   "id": "fa14aa19",
   "metadata": {},
   "outputs": [],
   "source": [
    "cn = CubeNumber(5)"
   ]
  },
  {
   "cell_type": "code",
   "execution_count": 13,
   "id": "395b9d6e",
   "metadata": {},
   "outputs": [],
   "source": [
    "my_iter = cn.__iter__()"
   ]
  },
  {
   "cell_type": "code",
   "execution_count": 14,
   "id": "bb018ebd",
   "metadata": {},
   "outputs": [
    {
     "data": {
      "text/plain": [
       "0"
      ]
     },
     "execution_count": 14,
     "metadata": {},
     "output_type": "execute_result"
    }
   ],
   "source": [
    "my_iter.__next__()"
   ]
  },
  {
   "cell_type": "code",
   "execution_count": 15,
   "id": "083dcb7b",
   "metadata": {},
   "outputs": [
    {
     "data": {
      "text/plain": [
       "1"
      ]
     },
     "execution_count": 15,
     "metadata": {},
     "output_type": "execute_result"
    }
   ],
   "source": [
    "my_iter.__next__()"
   ]
  },
  {
   "cell_type": "code",
   "execution_count": 16,
   "id": "f47ea40f",
   "metadata": {},
   "outputs": [
    {
     "data": {
      "text/plain": [
       "8"
      ]
     },
     "execution_count": 16,
     "metadata": {},
     "output_type": "execute_result"
    }
   ],
   "source": [
    "my_iter.__next__()"
   ]
  },
  {
   "cell_type": "code",
   "execution_count": 17,
   "id": "bbeb20a7",
   "metadata": {},
   "outputs": [
    {
     "data": {
      "text/plain": [
       "27"
      ]
     },
     "execution_count": 17,
     "metadata": {},
     "output_type": "execute_result"
    }
   ],
   "source": [
    "my_iter.__next__()"
   ]
  },
  {
   "cell_type": "code",
   "execution_count": 18,
   "id": "2be3a2c1",
   "metadata": {},
   "outputs": [
    {
     "data": {
      "text/plain": [
       "64"
      ]
     },
     "execution_count": 18,
     "metadata": {},
     "output_type": "execute_result"
    }
   ],
   "source": [
    "my_iter.__next__()"
   ]
  },
  {
   "cell_type": "code",
   "execution_count": 19,
   "id": "888d6a20",
   "metadata": {},
   "outputs": [
    {
     "data": {
      "text/plain": [
       "125"
      ]
     },
     "execution_count": 19,
     "metadata": {},
     "output_type": "execute_result"
    }
   ],
   "source": [
    "my_iter.__next__()"
   ]
  },
  {
   "cell_type": "code",
   "execution_count": 20,
   "id": "d47a2a89",
   "metadata": {},
   "outputs": [
    {
     "ename": "StopIteration",
     "evalue": "",
     "output_type": "error",
     "traceback": [
      "\u001b[1;31m---------------------------------------------------------------------------\u001b[0m",
      "\u001b[1;31mStopIteration\u001b[0m                             Traceback (most recent call last)",
      "\u001b[1;32md:\\jWorkspace\\2021\\LearningAlgoPython\\Intermediate Python\\Iterators.ipynb Cell 27'\u001b[0m in \u001b[0;36m<cell line: 1>\u001b[1;34m()\u001b[0m\n\u001b[1;32m----> <a href='vscode-notebook-cell:/d%3A/jWorkspace/2021/LearningAlgoPython/Intermediate%20Python/Iterators.ipynb#ch0000027?line=0'>1</a>\u001b[0m my_iter\u001b[39m.\u001b[39;49m\u001b[39m__next__\u001b[39;49m()\n",
      "\u001b[1;32md:\\jWorkspace\\2021\\LearningAlgoPython\\Intermediate Python\\Iterators.ipynb Cell 18'\u001b[0m in \u001b[0;36mCubeNumber.__next__\u001b[1;34m(self)\u001b[0m\n\u001b[0;32m     <a href='vscode-notebook-cell:/d%3A/jWorkspace/2021/LearningAlgoPython/Intermediate%20Python/Iterators.ipynb#ch0000018?line=12'>13</a>\u001b[0m     \u001b[39mreturn\u001b[39;00m result\n\u001b[0;32m     <a href='vscode-notebook-cell:/d%3A/jWorkspace/2021/LearningAlgoPython/Intermediate%20Python/Iterators.ipynb#ch0000018?line=13'>14</a>\u001b[0m \u001b[39melse\u001b[39;00m:\n\u001b[1;32m---> <a href='vscode-notebook-cell:/d%3A/jWorkspace/2021/LearningAlgoPython/Intermediate%20Python/Iterators.ipynb#ch0000018?line=14'>15</a>\u001b[0m     \u001b[39mraise\u001b[39;00m \u001b[39mStopIteration\u001b[39;00m\n",
      "\u001b[1;31mStopIteration\u001b[0m: "
     ]
    }
   ],
   "source": [
    "my_iter.__next__()"
   ]
  },
  {
   "cell_type": "code",
   "execution_count": null,
   "id": "fa939661",
   "metadata": {},
   "outputs": [
    {
     "name": "stdout",
     "output_type": "stream",
     "text": [
      "0\n",
      "1\n",
      "8\n",
      "27\n",
      "64\n",
      "125\n"
     ]
    }
   ],
   "source": [
    "for ele in cn:\n",
    "    print(ele)"
   ]
  },
  {
   "cell_type": "code",
   "execution_count": null,
   "id": "58ce0787",
   "metadata": {},
   "outputs": [],
   "source": []
  }
 ],
 "metadata": {
  "interpreter": {
   "hash": "31207f7f45b7f40f17c5b6dc2661d00c869d61649919135241f1fba84b9bb9cb"
  },
  "kernelspec": {
   "display_name": "Python 3.9.12 ('base')",
   "language": "python",
   "name": "python3"
  },
  "language_info": {
   "codemirror_mode": {
    "name": "ipython",
    "version": 3
   },
   "file_extension": ".py",
   "mimetype": "text/x-python",
   "name": "python",
   "nbconvert_exporter": "python",
   "pygments_lexer": "ipython3",
   "version": "3.9.12"
  }
 },
 "nbformat": 4,
 "nbformat_minor": 5
}
