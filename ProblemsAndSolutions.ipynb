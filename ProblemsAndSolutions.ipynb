{
 "cells": [
  {
   "cell_type": "markdown",
   "metadata": {},
   "source": [
    "## Logic Building (Section 29)"
   ]
  },
  {
   "cell_type": "code",
   "execution_count": 3,
   "metadata": {},
   "outputs": [
    {
     "name": "stdout",
     "output_type": "stream",
     "text": [
      "1 \n",
      "\n",
      "2 3 \n",
      "\n",
      "4 5 6 \n",
      "\n",
      "7 8 9 10 \n",
      "\n",
      "11 12 13 14 15 \n",
      "\n",
      "16 17 18 19 20 21 \n",
      "\n"
     ]
    }
   ],
   "source": [
    "# Number Pattern Code\n",
    "\n",
    "def patternNumber(n):\n",
    "    val = 1\n",
    "\n",
    "    for i in range(1, n+1):\n",
    "        for j in range(1, i+1):\n",
    "            print(val, end=\" \")\n",
    "            val = val + 1\n",
    "        print(\"\\n\")\n",
    "\n",
    "\n",
    "patternNumber(6)\n"
   ]
  },
  {
   "cell_type": "code",
   "execution_count": 3,
   "metadata": {},
   "outputs": [
    {
     "name": "stdout",
     "output_type": "stream",
     "text": [
      "       *\n",
      "      ***\n",
      "     *****\n",
      "    *******\n",
      "   *********\n",
      "  ***********\n",
      " *************\n",
      "***************\n"
     ]
    }
   ],
   "source": [
    "# dimond pattern --> https://www.udemy.com/course/python-programming-beginners-bootcamp/learn/lecture/28222114#overview\n",
    "\n",
    "def diamondPattern(n):\n",
    "\n",
    "    for i in range(1, n+1):\n",
    "        # N - 1 spaces\n",
    "        print(\" \"*(n-i), end=\"\")\n",
    "        print(\"*\"*(2*i - 1), end=\"\")\n",
    "\n",
    "        print()\n",
    "\n",
    "\n",
    "diamondPattern(8)\n"
   ]
  },
  {
   "cell_type": "code",
   "execution_count": 11,
   "metadata": {},
   "outputs": [
    {
     "name": "stdout",
     "output_type": "stream",
     "text": [
      "n is 5\n",
      "n is 2\n",
      "n is 1\n",
      "n is 0\n",
      "1010\n"
     ]
    }
   ],
   "source": [
    "# Decimal To Binary\n",
    "\n",
    "def decimalToBinary(n):\n",
    "    ans = 0\n",
    "    p = 1\n",
    "    while n > 0:\n",
    "        rem = n % 2\n",
    "        ans = ans + rem * p\n",
    "        p = p * 10\n",
    "        n = n // 2\n",
    "        print(\"n is {}\".format(n))\n",
    "    return ans\n",
    "\n",
    "\n",
    "print(decimalToBinary(10))\n"
   ]
  },
  {
   "cell_type": "code",
   "execution_count": 19,
   "metadata": {},
   "outputs": [
    {
     "name": "stdout",
     "output_type": "stream",
     "text": [
      "\n",
      "WearelearningPython\n",
      "\n",
      "WearelearningPython\n"
     ]
    }
   ],
   "source": [
    "# Removing spaces and String Concatenation\n",
    "\n",
    "def removeSpaces(string):\n",
    "    output = \"\"\n",
    "\n",
    "# quadratic time complexity\n",
    "    for letter in string:\n",
    "        if letter != \" \":\n",
    "            # O(n)\n",
    "            output += letter\n",
    "\n",
    "    return output\n",
    "\n",
    "\n",
    "def removeSpacesOptimised(string):\n",
    "    output = []\n",
    "\n",
    "# quadratic time complexity\n",
    "    for letter in string:\n",
    "        if letter != \" \":\n",
    "            # O(1)\n",
    "            output.append(letter)\n",
    "\n",
    "    return \"\".join(output)\n",
    "\n",
    "\n",
    "print()\n",
    "print(removeSpaces(\"We are learning Python\"))\n",
    "print()\n",
    "print(removeSpacesOptimised(\"We are learning Python\"))\n"
   ]
  },
  {
   "cell_type": "code",
   "execution_count": 26,
   "metadata": {},
   "outputs": [
    {
     "data": {
      "text/plain": [
       "1010"
      ]
     },
     "execution_count": 26,
     "metadata": {},
     "output_type": "execute_result"
    }
   ],
   "source": [
    "# Bitwise Problem - DecimalToBinary\n",
    "\n",
    "def decimalToBinaryBitwise(n):\n",
    "    ans = \"\"\n",
    "    while n > 0:\n",
    "        last_bit = n & 1\n",
    "        ans = ans + str(last_bit)\n",
    "        n = n >> 1\n",
    "    return int(ans[::-1])\n",
    "\n",
    "\n",
    "decimalToBinaryBitwise(10)\n"
   ]
  },
  {
   "cell_type": "code",
   "execution_count": 46,
   "metadata": {},
   "outputs": [
    {
     "name": "stdout",
     "output_type": "stream",
     "text": [
      "1, 2, 3, 5, 7, 11, 13, 17, 19, 23, 29, 31, 37, 41, 43, 47, 53, 59, 61, 67, 71, 73, "
     ]
    }
   ],
   "source": [
    "# finding primes\n",
    "\n",
    "def isPrime(n):\n",
    "    for i in range(2, n//2 + 1):\n",
    "        if n % i == 0:\n",
    "            return False\n",
    "    return True\n",
    "\n",
    "\n",
    "for i in range(1, 79):\n",
    "    if(isPrime(i)):\n",
    "        print(i, end=\", \")\n"
   ]
  },
  {
   "cell_type": "code",
   "execution_count": 47,
   "metadata": {},
   "outputs": [
    {
     "name": "stdout",
     "output_type": "stream",
     "text": [
      "u\n"
     ]
    }
   ],
   "source": [
    "# First Repeating Char\n",
    "\n",
    "def firstRepeatingChar(string):\n",
    "    table = {}\n",
    "    for char in string.lower():\n",
    "        if char in table:\n",
    "            return char\n",
    "        elif char != \" \":\n",
    "            table[char] = True\n",
    "    return\n",
    "\n",
    "\n",
    "print(firstRepeatingChar(\"burhangunay\"))\n"
   ]
  },
  {
   "cell_type": "code",
   "execution_count": 7,
   "metadata": {},
   "outputs": [
    {
     "name": "stdout",
     "output_type": "stream",
     "text": [
      "{}\n",
      "{3: True}\n",
      "{3: True, 4: True}\n",
      "{3: True, 4: True, 5: True}\n",
      "{3: True, 4: True, 5: True, -6: True}\n",
      "{3: True, 4: True, 5: True, -6: True, 12: True}\n",
      "[11, -6]\n"
     ]
    }
   ],
   "source": [
    "# Pair Sum  (using Dict)\n",
    "\n",
    "def pairSumHashing(arr,S):\n",
    "    hashTable = {}\n",
    "\n",
    "    for x in arr: # O(N) time complexity, we can use set data structure also (https://www.udemy.com/course/python-programming-beginners-bootcamp/learn/lecture/28224972#overview)\n",
    "        y = S - x\n",
    "        print(hashTable)\n",
    "        if y in hashTable:\n",
    "            return [x,y]\n",
    "        else:\n",
    "            hashTable[x] = True\n",
    " \n",
    "    return []\n",
    "\n",
    "array = [3,4,5,-6,12,11,10,22]\n",
    "S = 5\n",
    "print(pairSumHashing(array,S))\n"
   ]
  },
  {
   "cell_type": "code",
   "execution_count": 9,
   "metadata": {},
   "outputs": [
    {
     "name": "stdout",
     "output_type": "stream",
     "text": [
      "7\n"
     ]
    }
   ],
   "source": [
    "# Mountain\n",
    "\n",
    "def mountain(array):\n",
    "    ans = 0\n",
    "    i = 1\n",
    "\n",
    "    while i < len(array) - 1:\n",
    "        isPeak = array[i] > array[i-1] and array[i] > array[i+1]\n",
    "        if isPeak:\n",
    "            cnt = 1\n",
    "            j = i\n",
    "            # go backward\n",
    "            while j>0 and array[j-1] < array[j]:\n",
    "                cnt += 1\n",
    "                j -= 1\n",
    "            j = i\n",
    "            while j< len(array) -1 and array[j] > array[j+1]:\n",
    "                cnt += 1\n",
    "                j += 1\n",
    "\n",
    "            # breath of mountain\n",
    "            ans = max(cnt,ans)\n",
    "            i = j\n",
    "        else:\n",
    "            i += 1\n",
    "        \n",
    "    return ans\n",
    "\n",
    "\n",
    "array = [10,0,1,2,3,5,4,0,10,6,5,-2,-3,2,3]\n",
    "print(mountain(array))\n"
   ]
  },
  {
   "cell_type": "code",
   "execution_count": 1,
   "metadata": {},
   "outputs": [
    {
     "name": "stdout",
     "output_type": "stream",
     "text": [
      "6\n"
     ]
    }
   ],
   "source": [
    "# rainwater - How much water can be trapped in bars (array)\n",
    "\n",
    "def rainwater(array):\n",
    "    n = len(array)\n",
    "    if n <= 2:\n",
    "        return 0\n",
    "    \n",
    "    left = [0 for x in array]       # [0,0,0,0,.... ] -> creates new array with 0's in length of array in argument\n",
    "    right = [0 for x in array]\n",
    "\n",
    "    left[0] = array[0]\n",
    "    right[n-1] = array[n-1]\n",
    "\n",
    "    for i in range(1,n):\n",
    "        left[i] = max(left[i-1], array[i])\n",
    "        right[n-i-1] = max(right[n-i],array[n-i-1])\n",
    "\n",
    "    #calc water\n",
    "    water = 0\n",
    "    for i in range(1,n):\n",
    "        water += min(left[i], right[i]) - array[i]\n",
    "\n",
    "    return water\n",
    "\n",
    "\n",
    "\n",
    "array = [0,1,0,2,1,0,1,3,2,1,2,1]\n",
    "print(rainwater(array))"
   ]
  },
  {
   "cell_type": "code",
   "execution_count": null,
   "metadata": {},
   "outputs": [],
   "source": [
    "# 2D Arrays\n",
    "\n"
   ]
  }
 ],
 "metadata": {
  "interpreter": {
   "hash": "31207f7f45b7f40f17c5b6dc2661d00c869d61649919135241f1fba84b9bb9cb"
  },
  "kernelspec": {
   "display_name": "Python 3.9.12 ('base')",
   "language": "python",
   "name": "python3"
  },
  "language_info": {
   "codemirror_mode": {
    "name": "ipython",
    "version": 3
   },
   "file_extension": ".py",
   "mimetype": "text/x-python",
   "name": "python",
   "nbconvert_exporter": "python",
   "pygments_lexer": "ipython3",
   "version": "3.9.12"
  }
 },
 "nbformat": 4,
 "nbformat_minor": 4
}
